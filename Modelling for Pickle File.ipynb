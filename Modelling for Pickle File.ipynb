{
 "cells": [
  {
   "cell_type": "markdown",
   "metadata": {},
   "source": [
    "# Import Library"
   ]
  },
  {
   "cell_type": "code",
   "execution_count": 65,
   "metadata": {},
   "outputs": [],
   "source": [
    "import seaborn as sns\n",
    "import pandas as pd\n",
    "import numpy as np\n",
    "import pandas as pd\n",
    "import numpy as np\n",
    "import matplotlib.pyplot as plt\n",
    "from sklearn.metrics import classification_report, roc_auc_score, roc_curve\n",
    "from sklearn.model_selection import train_test_split\n",
    "import seaborn as sns\n",
    "from xgboost import XGBClassifier\n",
    "#from imblearn.metrics import geometric_mean_score\n",
    "from sklearn.metrics import make_scorer,accuracy_score,roc_auc_score,precision_score,recall_score,f1_score,log_loss\n",
    "import warnings\n",
    "warnings.filterwarnings(\"ignore\")"
   ]
  },
  {
   "cell_type": "markdown",
   "metadata": {},
   "source": [
    "# Load Dataset"
   ]
  },
  {
   "cell_type": "code",
   "execution_count": 66,
   "metadata": {},
   "outputs": [
    {
     "name": "stdout",
     "output_type": "stream",
     "text": [
      "(16625, 16) (16625, 15)\n"
     ]
    }
   ],
   "source": [
    "data=pd.read_csv('training.csv')\n",
    "test=pd.read_csv('testing.csv',sep=';')\n",
    "print(data.shape,test.shape)"
   ]
  },
  {
   "cell_type": "markdown",
   "metadata": {},
   "source": [
    "# Data Preprocessing"
   ]
  },
  {
   "cell_type": "code",
   "execution_count": 67,
   "metadata": {},
   "outputs": [],
   "source": [
    "data['MARRIAGE']=pd.Categorical(data['MARRIAGE'])\n",
    "data['SEX']=pd.Categorical(data['SEX'])\n",
    "\n",
    "test['MARRIAGE']=pd.Categorical(test['MARRIAGE'])\n",
    "test['SEX']=pd.Categorical(test['SEX'])\n"
   ]
  },
  {
   "cell_type": "markdown",
   "metadata": {},
   "source": [
    "# Get the Variable"
   ]
  },
  {
   "cell_type": "code",
   "execution_count": 68,
   "metadata": {},
   "outputs": [
    {
     "data": {
      "text/html": [
       "<div>\n",
       "<style scoped>\n",
       "    .dataframe tbody tr th:only-of-type {\n",
       "        vertical-align: middle;\n",
       "    }\n",
       "\n",
       "    .dataframe tbody tr th {\n",
       "        vertical-align: top;\n",
       "    }\n",
       "\n",
       "    .dataframe thead th {\n",
       "        text-align: right;\n",
       "    }\n",
       "</style>\n",
       "<table border=\"1\" class=\"dataframe\">\n",
       "  <thead>\n",
       "    <tr style=\"text-align: right;\">\n",
       "      <th></th>\n",
       "      <th>PAY_1</th>\n",
       "      <th>PAY_2</th>\n",
       "      <th>PAY_3</th>\n",
       "      <th>LIMIT_BAL</th>\n",
       "      <th>BILL_AMT3</th>\n",
       "      <th>PAY_AMT3</th>\n",
       "    </tr>\n",
       "  </thead>\n",
       "  <tbody>\n",
       "    <tr>\n",
       "      <td>0</td>\n",
       "      <td>0</td>\n",
       "      <td>0</td>\n",
       "      <td>0</td>\n",
       "      <td>30000.0</td>\n",
       "      <td>23881.0</td>\n",
       "      <td>1287.0</td>\n",
       "    </tr>\n",
       "    <tr>\n",
       "      <td>1</td>\n",
       "      <td>1</td>\n",
       "      <td>2</td>\n",
       "      <td>0</td>\n",
       "      <td>20000.0</td>\n",
       "      <td>17203.0</td>\n",
       "      <td>1500.0</td>\n",
       "    </tr>\n",
       "    <tr>\n",
       "      <td>2</td>\n",
       "      <td>0</td>\n",
       "      <td>0</td>\n",
       "      <td>0</td>\n",
       "      <td>20000.0</td>\n",
       "      <td>17947.0</td>\n",
       "      <td>1178.0</td>\n",
       "    </tr>\n",
       "    <tr>\n",
       "      <td>3</td>\n",
       "      <td>0</td>\n",
       "      <td>0</td>\n",
       "      <td>0</td>\n",
       "      <td>20000.0</td>\n",
       "      <td>3372.0</td>\n",
       "      <td>0.0</td>\n",
       "    </tr>\n",
       "    <tr>\n",
       "      <td>4</td>\n",
       "      <td>0</td>\n",
       "      <td>0</td>\n",
       "      <td>0</td>\n",
       "      <td>170000.0</td>\n",
       "      <td>110163.0</td>\n",
       "      <td>3760.0</td>\n",
       "    </tr>\n",
       "  </tbody>\n",
       "</table>\n",
       "</div>"
      ],
      "text/plain": [
       "   PAY_1  PAY_2  PAY_3  LIMIT_BAL  BILL_AMT3  PAY_AMT3\n",
       "0      0      0      0    30000.0    23881.0    1287.0\n",
       "1      1      2      0    20000.0    17203.0    1500.0\n",
       "2      0      0      0    20000.0    17947.0    1178.0\n",
       "3      0      0      0    20000.0     3372.0       0.0\n",
       "4      0      0      0   170000.0   110163.0    3760.0"
      ]
     },
     "execution_count": 68,
     "metadata": {},
     "output_type": "execute_result"
    }
   ],
   "source": [
    "y=data['TARGET']\n",
    "data=data.drop('TARGET',1)\n",
    "datagabung=pd.concat([data,test],0)\n",
    "datagabung_drop=datagabung.drop(['ID'],1)\n",
    "newdata=datagabung_drop[['PAY_1','PAY_2','PAY_3','LIMIT_BAL','BILL_AMT3','PAY_AMT3']]\n",
    "newdata.head()\n"
   ]
  },
  {
   "cell_type": "markdown",
   "metadata": {},
   "source": [
    "## Split Train and Validation Dataset"
   ]
  },
  {
   "cell_type": "code",
   "execution_count": 71,
   "metadata": {},
   "outputs": [],
   "source": [
    "df_train = Xgabung[:len(data)]\n",
    "df_test = Xgabung[len(data):]"
   ]
  },
  {
   "cell_type": "code",
   "execution_count": 72,
   "metadata": {},
   "outputs": [],
   "source": [
    "#df_train.head()\n",
    "from sklearn.model_selection import train_test_split\n",
    "X_train, X_test, y_train, y_test = train_test_split(df_train,y,test_size=0.3)"
   ]
  },
  {
   "cell_type": "markdown",
   "metadata": {},
   "source": [
    "## Model Comparison"
   ]
  },
  {
   "cell_type": "code",
   "execution_count": 73,
   "metadata": {},
   "outputs": [
    {
     "data": {
      "text/plain": [
       "[sklearn.tree.tree.DecisionTreeClassifier,\n",
       " sklearn.linear_model.logistic.LogisticRegression,\n",
       " sklearn.neighbors.classification.KNeighborsClassifier,\n",
       " sklearn.naive_bayes.GaussianNB,\n",
       " sklearn.svm.classes.LinearSVC,\n",
       " sklearn.ensemble.forest.RandomForestClassifier,\n",
       " sklearn.ensemble.gradient_boosting.GradientBoostingClassifier,\n",
       " sklearn.ensemble.forest.ExtraTreesClassifier]"
      ]
     },
     "execution_count": 73,
     "metadata": {},
     "output_type": "execute_result"
    }
   ],
   "source": [
    "# Modelling Algorithms\n",
    "from sklearn.tree import DecisionTreeClassifier\n",
    "from sklearn.linear_model import LogisticRegression\n",
    "from sklearn.neighbors import KNeighborsClassifier\n",
    "from sklearn.naive_bayes import GaussianNB\n",
    "from sklearn.svm import SVC, LinearSVC\n",
    "from sklearn.ensemble import RandomForestClassifier , GradientBoostingClassifier\n",
    "from sklearn.ensemble import ExtraTreesClassifier\n",
    "## collect all model in one list\n",
    "all_model = [DecisionTreeClassifier,\n",
    "            LogisticRegression,\n",
    "             KNeighborsClassifier,\n",
    "             GaussianNB,\n",
    "#            SVC,\n",
    "            LinearSVC,\n",
    "            RandomForestClassifier,\n",
    "            GradientBoostingClassifier,\n",
    "            ExtraTreesClassifier]\n",
    "\n",
    "desc_model = ['DecisionTreeClassifier',\n",
    "            'LogisticRegression',\n",
    "             'KNeighborsClassifier',\n",
    "             'GaussianNB',\n",
    "#            'SVC',\n",
    "            'LinearSVC',\n",
    "            'RandomForestClassifier',\n",
    "            'GradientBoostingClassifier',\n",
    "            'ExtraTreesClassifier']\n",
    "\n",
    "\n",
    "all_model"
   ]
  },
  {
   "cell_type": "code",
   "execution_count": 74,
   "metadata": {},
   "outputs": [],
   "source": [
    "## loop for all model\n",
    "\n",
    "datatr = []\n",
    "datasc = []\n",
    "Recall =[]\n",
    "Precision =[]\n",
    "auc =[]\n",
    "\n",
    "for i in all_model:\n",
    "    model = i()\n",
    "    model.fit(X_train,y_train)\n",
    "    y_pred=model.predict(X_test)\n",
    "    datatr.append(model.score( X_train , y_train ))\n",
    "    datasc.append(model.score( X_test , y_test ))\n",
    "    Recall.append(recall_score(y_test,y_pred))\n",
    "    Precision.append(precision_score(y_test,y_pred))\n",
    "    auc.append(roc_auc_score(y_test,y_pred))\n",
    "   # print(i, model.score( X_train , y_train ) , model.score( X_test , y_test ))"
   ]
  },
  {
   "cell_type": "markdown",
   "metadata": {},
   "source": [
    "## Rank the Modelling Score"
   ]
  },
  {
   "cell_type": "code",
   "execution_count": 75,
   "metadata": {},
   "outputs": [
    {
     "data": {
      "text/html": [
       "<div>\n",
       "<style scoped>\n",
       "    .dataframe tbody tr th:only-of-type {\n",
       "        vertical-align: middle;\n",
       "    }\n",
       "\n",
       "    .dataframe tbody tr th {\n",
       "        vertical-align: top;\n",
       "    }\n",
       "\n",
       "    .dataframe thead th {\n",
       "        text-align: right;\n",
       "    }\n",
       "</style>\n",
       "<table border=\"1\" class=\"dataframe\">\n",
       "  <thead>\n",
       "    <tr style=\"text-align: right;\">\n",
       "      <th></th>\n",
       "      <th>model</th>\n",
       "      <th>Accuracy training</th>\n",
       "      <th>Accuracy test</th>\n",
       "      <th>Precision</th>\n",
       "      <th>Recall</th>\n",
       "      <th>AUC</th>\n",
       "      <th>gap</th>\n",
       "    </tr>\n",
       "  </thead>\n",
       "  <tbody>\n",
       "    <tr>\n",
       "      <td>6</td>\n",
       "      <td>GradientBoostingClassifier</td>\n",
       "      <td>0.824611</td>\n",
       "      <td>0.817362</td>\n",
       "      <td>0.819953</td>\n",
       "      <td>0.696241</td>\n",
       "      <td>0.797168</td>\n",
       "      <td>0.007249</td>\n",
       "    </tr>\n",
       "    <tr>\n",
       "      <td>5</td>\n",
       "      <td>RandomForestClassifier</td>\n",
       "      <td>0.964939</td>\n",
       "      <td>0.799719</td>\n",
       "      <td>0.786207</td>\n",
       "      <td>0.685714</td>\n",
       "      <td>0.780712</td>\n",
       "      <td>0.165220</td>\n",
       "    </tr>\n",
       "    <tr>\n",
       "      <td>7</td>\n",
       "      <td>ExtraTreesClassifier</td>\n",
       "      <td>0.982728</td>\n",
       "      <td>0.793103</td>\n",
       "      <td>0.767947</td>\n",
       "      <td>0.691729</td>\n",
       "      <td>0.776202</td>\n",
       "      <td>0.189624</td>\n",
       "    </tr>\n",
       "    <tr>\n",
       "      <td>0</td>\n",
       "      <td>DecisionTreeClassifier</td>\n",
       "      <td>0.982728</td>\n",
       "      <td>0.765437</td>\n",
       "      <td>0.712082</td>\n",
       "      <td>0.694236</td>\n",
       "      <td>0.753566</td>\n",
       "      <td>0.217290</td>\n",
       "    </tr>\n",
       "    <tr>\n",
       "      <td>2</td>\n",
       "      <td>KNeighborsClassifier</td>\n",
       "      <td>0.816104</td>\n",
       "      <td>0.731155</td>\n",
       "      <td>0.679473</td>\n",
       "      <td>0.620551</td>\n",
       "      <td>0.712715</td>\n",
       "      <td>0.084949</td>\n",
       "    </tr>\n",
       "    <tr>\n",
       "      <td>1</td>\n",
       "      <td>LogisticRegression</td>\n",
       "      <td>0.616740</td>\n",
       "      <td>0.614274</td>\n",
       "      <td>0.986301</td>\n",
       "      <td>0.036090</td>\n",
       "      <td>0.517878</td>\n",
       "      <td>0.002465</td>\n",
       "    </tr>\n",
       "    <tr>\n",
       "      <td>4</td>\n",
       "      <td>LinearSVC</td>\n",
       "      <td>0.601358</td>\n",
       "      <td>0.600040</td>\n",
       "      <td>0.000000</td>\n",
       "      <td>0.000000</td>\n",
       "      <td>0.500000</td>\n",
       "      <td>0.001318</td>\n",
       "    </tr>\n",
       "    <tr>\n",
       "      <td>3</td>\n",
       "      <td>GaussianNB</td>\n",
       "      <td>0.597319</td>\n",
       "      <td>0.585806</td>\n",
       "      <td>0.487253</td>\n",
       "      <td>0.680201</td>\n",
       "      <td>0.601544</td>\n",
       "      <td>0.011513</td>\n",
       "    </tr>\n",
       "  </tbody>\n",
       "</table>\n",
       "</div>"
      ],
      "text/plain": [
       "                        model  Accuracy training  Accuracy test  Precision  \\\n",
       "6  GradientBoostingClassifier           0.824611       0.817362   0.819953   \n",
       "5      RandomForestClassifier           0.964939       0.799719   0.786207   \n",
       "7        ExtraTreesClassifier           0.982728       0.793103   0.767947   \n",
       "0      DecisionTreeClassifier           0.982728       0.765437   0.712082   \n",
       "2        KNeighborsClassifier           0.816104       0.731155   0.679473   \n",
       "1          LogisticRegression           0.616740       0.614274   0.986301   \n",
       "4                   LinearSVC           0.601358       0.600040   0.000000   \n",
       "3                  GaussianNB           0.597319       0.585806   0.487253   \n",
       "\n",
       "     Recall       AUC       gap  \n",
       "6  0.696241  0.797168  0.007249  \n",
       "5  0.685714  0.780712  0.165220  \n",
       "7  0.691729  0.776202  0.189624  \n",
       "0  0.694236  0.753566  0.217290  \n",
       "2  0.620551  0.712715  0.084949  \n",
       "1  0.036090  0.517878  0.002465  \n",
       "4  0.000000  0.500000  0.001318  \n",
       "3  0.680201  0.601544  0.011513  "
      ]
     },
     "execution_count": 75,
     "metadata": {},
     "output_type": "execute_result"
    }
   ],
   "source": [
    "## compare model each other\n",
    "data1 = pd.DataFrame()\n",
    "data1['model'] = desc_model\n",
    "data1['Accuracy training'] = datatr\n",
    "data1['Accuracy test'] = datasc\n",
    "data1['Precision'] = Precision\n",
    "data1['Recall']= Recall\n",
    "data1['AUC']=auc\n",
    "data1['gap'] = abs(data1['Accuracy training'] - data1['Accuracy test'])\n",
    "data1.sort_values(by='Accuracy test',ascending=False)"
   ]
  },
  {
   "cell_type": "markdown",
   "metadata": {},
   "source": [
    "We Choose Gradient Boosting Classifier because it has the highest AUC Score"
   ]
  },
  {
   "cell_type": "markdown",
   "metadata": {},
   "source": [
    "# Hyperparameter Tuning for Gradient Boosting"
   ]
  },
  {
   "cell_type": "code",
   "execution_count": 76,
   "metadata": {},
   "outputs": [
    {
     "name": "stdout",
     "output_type": "stream",
     "text": [
      "Wall time: 670 µs\n"
     ]
    }
   ],
   "source": [
    "xgboost=GradientBoostingClassifier(learning_rate=0.01,n_estimators=750,max_depth=7,min_samples_split=2)\n",
    "xgboost.fit(X_train,y_train)\n",
    "%time\n",
    "y_pred=model.predict(X_test)"
   ]
  },
  {
   "cell_type": "markdown",
   "metadata": {},
   "source": [
    "# Fit Random Forest"
   ]
  },
  {
   "cell_type": "code",
   "execution_count": 77,
   "metadata": {},
   "outputs": [
    {
     "data": {
      "text/plain": [
       "RandomForestClassifier(bootstrap=True, class_weight=None, criterion='gini',\n",
       "            max_depth=7, max_features='auto', max_leaf_nodes=None,\n",
       "            min_impurity_decrease=0.0, min_impurity_split=None,\n",
       "            min_samples_leaf=1, min_samples_split=2,\n",
       "            min_weight_fraction_leaf=0.0, n_estimators=750, n_jobs=None,\n",
       "            oob_score=False, random_state=None, verbose=0,\n",
       "            warm_start=False)"
      ]
     },
     "execution_count": 77,
     "metadata": {},
     "output_type": "execute_result"
    }
   ],
   "source": [
    "RF=RandomForestClassifier(n_estimators=750,max_depth=7,min_samples_split=2)\n",
    "RF.fit(X_train,y_train)"
   ]
  },
  {
   "cell_type": "markdown",
   "metadata": {},
   "source": [
    "# "
   ]
  },
  {
   "cell_type": "code",
   "execution_count": 78,
   "metadata": {},
   "outputs": [],
   "source": [
    "import pickle\n",
    "import requests\n",
    "import json\n",
    "pickle.dump(xgboost, open('xgboost.pkl','wb'))\n",
    "pickle.dump(RF, open('RF.pkl','wb'))\n",
    "pickle.dump(RF, open('RF.pkl','wb'))"
   ]
  },
  {
   "cell_type": "code",
   "execution_count": 79,
   "metadata": {},
   "outputs": [],
   "source": [
    "model_xgb=pickle.load(open('xgboost.pkl','rb'))\n",
    "model_rf=pickle.load(open('RF.pkl','rb'))"
   ]
  },
  {
   "cell_type": "code",
   "execution_count": 80,
   "metadata": {},
   "outputs": [
    {
     "name": "stdout",
     "output_type": "stream",
     "text": [
      "              precision    recall  f1-score   support\n",
      "\n",
      "           0       0.83      0.89      0.86      2993\n",
      "           1       0.82      0.72      0.77      1995\n",
      "\n",
      "   micro avg       0.83      0.83      0.83      4988\n",
      "   macro avg       0.82      0.81      0.81      4988\n",
      "weighted avg       0.83      0.83      0.82      4988\n",
      "\n"
     ]
    }
   ],
   "source": [
    "xgb_y_pred=model_xgb.predict(X_test)\n",
    "print(classification_report(y_test,xgb_y_pred))"
   ]
  },
  {
   "cell_type": "code",
   "execution_count": 81,
   "metadata": {},
   "outputs": [
    {
     "name": "stdout",
     "output_type": "stream",
     "text": [
      "              precision    recall  f1-score   support\n",
      "\n",
      "           0       0.81      0.90      0.85      2993\n",
      "           1       0.82      0.69      0.75      1995\n",
      "\n",
      "   micro avg       0.82      0.82      0.82      4988\n",
      "   macro avg       0.82      0.80      0.80      4988\n",
      "weighted avg       0.82      0.82      0.81      4988\n",
      "\n"
     ]
    }
   ],
   "source": [
    "RF_y_pred=model_rf.predict(X_test)\n",
    "print(classification_report(y_test,RF_y_pred))"
   ]
  },
  {
   "cell_type": "code",
   "execution_count": null,
   "metadata": {},
   "outputs": [],
   "source": []
  }
 ],
 "metadata": {
  "kernelspec": {
   "display_name": "Python 3",
   "language": "python",
   "name": "python3"
  },
  "language_info": {
   "codemirror_mode": {
    "name": "ipython",
    "version": 3
   },
   "file_extension": ".py",
   "mimetype": "text/x-python",
   "name": "python",
   "nbconvert_exporter": "python",
   "pygments_lexer": "ipython3",
   "version": "3.6.9"
  }
 },
 "nbformat": 4,
 "nbformat_minor": 2
}
